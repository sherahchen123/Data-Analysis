{
 "cells": [
  {
   "cell_type": "code",
   "execution_count": 1,
   "id": "a1645b79-ffef-47e5-b043-8e68acaf3387",
   "metadata": {},
   "outputs": [],
   "source": [
    "import pandas as pd"
   ]
  },
  {
   "cell_type": "code",
   "execution_count": 5,
   "id": "f556f4e0-86a5-498a-a94c-301929749926",
   "metadata": {},
   "outputs": [],
   "source": [
    "def calculate_descriptive_stats(data):\n",
    "    stats_dict = {}\n",
    "    #Calculate mean\n",
    "    stats_dict['mean'] = data.mean()\n",
    "    #Calculate median\n",
    "    stats_dict['median'] = data.median()\n",
    "    #Calculate mode\n",
    "    if data.dtype == 'object':\n",
    "        stats_dict['mode'] = data.mode()[0]\n",
    "    else:\n",
    "        stats_dict['mode'] = pd.Series.mode(data)\n",
    "    #Calculate standard deviation\n",
    "    stats_dict['std_dev'] = data.std()\n",
    "\n",
    "    return stats_dict\n",
    "\n",
    "from sklearn.linear_model import LinearRegression"
   ]
  },
  {
   "cell_type": "code",
   "execution_count": 3,
   "id": "97daca38-e67c-4845-a073-fd7784615795",
   "metadata": {},
   "outputs": [
    {
     "name": "stdout",
     "output_type": "stream",
     "text": [
      "[1 2 3]\n"
     ]
    }
   ],
   "source": [
    "import numpy as np\n",
    "a = np.array([1,2,3])  \n",
    "print(a)"
   ]
  },
  {
   "cell_type": "code",
   "execution_count": 5,
   "id": "e32f2607-ab96-41a8-9512-fbcdefe1bade",
   "metadata": {},
   "outputs": [
    {
     "name": "stdout",
     "output_type": "stream",
     "text": [
      "[[1 2]\n",
      " [3 4]]\n"
     ]
    }
   ],
   "source": [
    "a = np.array([[1,  2],  [3,  4]])\n",
    "print(a)"
   ]
  },
  {
   "cell_type": "code",
   "execution_count": 7,
   "id": "51a7b453-afca-4673-b285-4874434a3c39",
   "metadata": {},
   "outputs": [
    {
     "name": "stdout",
     "output_type": "stream",
     "text": [
      "[[1 2 3 4 5]]\n"
     ]
    }
   ],
   "source": [
    "#  ndmin:最小维度\n",
    "a = np.array([1,  2,  3,4,5], ndmin =  2)  \n",
    "print(a)"
   ]
  },
  {
   "cell_type": "code",
   "execution_count": 9,
   "id": "9286494c-a1ca-4f54-bff7-7316bb3fe760",
   "metadata": {},
   "outputs": [
    {
     "name": "stdout",
     "output_type": "stream",
     "text": [
      "[1.+0.j 2.+0.j 3.+0.j]\n"
     ]
    }
   ],
   "source": [
    "# dtype 数组的所需数据类型，可选。\n",
    "# 整数类型:\n",
    "\n",
    "# int8：有符号8位整数\n",
    "# int16：有符号16位整数\n",
    "# int32：有符号32位整数\n",
    "# int64：有符号64位整数\n",
    "# uint8：无符号8位整数\n",
    "# uint16：无符号16位整数\n",
    "# uint32：无符号32位整数\n",
    "# uint64：无符号64位整数\n",
    "# 浮点数类型:\n",
    "\n",
    "# float16：半精度浮点数\n",
    "# float32：单精度浮点数\n",
    "# float64：双精度浮点数\n",
    "# float128：扩展精度浮点数\n",
    "# 复数类型:\n",
    "\n",
    "# complex64：由两个32位浮点数表示的复数\n",
    "# complex128：由两个64位浮点数表示的复数\n",
    "# complex256：由两个128位浮点数表示的复数\n",
    "# 其他类型:\n",
    "\n",
    "# bool：布尔值类型，可以是True或False\n",
    "# object：Python对象类型\n",
    "# string_：字符串类型\n",
    "# unicode_：Unicode字符串类型\n",
    "# 日期和时间类型:\n",
    "\n",
    "# datetime64：日期和时间类型\n",
    "# 自定义数据类型:\n",
    "\n",
    "# NumPy还允许创建自定义数据类型，可以根据需要指定数据类型的大小和字节顺序。\n",
    "# windows多行注释：ctrl+/\n",
    "a = np.array([1,  2,  3], dtype = complex) \n",
    "print(a)"
   ]
  },
  {
   "cell_type": "code",
   "execution_count": 13,
   "id": "a4fa4395-c68c-4dde-b167-17cfbd785569",
   "metadata": {},
   "outputs": [
    {
     "name": "stdout",
     "output_type": "stream",
     "text": [
      "int32\n",
      "int32\n"
     ]
    }
   ],
   "source": [
    "dt = np.dtype(np.int32)  \n",
    "print(dt)\n",
    "\n",
    "#int8，int16，int32，int64 可替换为等价的字符串 'i1'，'i2'，'i4'，以及其他。 \n",
    "dt = np.dtype('i4')  \n",
    "print(dt)"
   ]
  },
  {
   "cell_type": "code",
   "execution_count": 15,
   "id": "39a30cde-1553-43a7-90a2-fa69d041ea45",
   "metadata": {},
   "outputs": [
    {
     "name": "stdout",
     "output_type": "stream",
     "text": [
      "[('age', 'i1')]\n"
     ]
    }
   ],
   "source": [
    "# 创建结构化数据类型\n",
    "dt = np.dtype([('age',np.int8)])  \n",
    "print(dt)"
   ]
  },
  {
   "cell_type": "code",
   "execution_count": null,
   "id": "e588fbd6-ea5b-402c-bba5-f335a853578f",
   "metadata": {},
   "outputs": [],
   "source": []
  }
 ],
 "metadata": {
  "kernelspec": {
   "display_name": "Python 3 (ipykernel)",
   "language": "python",
   "name": "python3"
  },
  "language_info": {
   "codemirror_mode": {
    "name": "ipython",
    "version": 3
   },
   "file_extension": ".py",
   "mimetype": "text/x-python",
   "name": "python",
   "nbconvert_exporter": "python",
   "pygments_lexer": "ipython3",
   "version": "3.12.4"
  }
 },
 "nbformat": 4,
 "nbformat_minor": 5
}
